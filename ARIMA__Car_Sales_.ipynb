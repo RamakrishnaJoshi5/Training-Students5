{
  "nbformat": 4,
  "nbformat_minor": 0,
  "metadata": {
    "colab": {
      "name": "ARIMA_ Car Sales .ipynb",
      "provenance": [],
      "authorship_tag": "ABX9TyOaUUlYSCbzkFoRvtgZazWj",
      "include_colab_link": true
    },
    "kernelspec": {
      "name": "python3",
      "display_name": "Python 3"
    },
    "language_info": {
      "name": "python"
    }
  },
  "cells": [
    {
      "cell_type": "markdown",
      "metadata": {
        "id": "view-in-github",
        "colab_type": "text"
      },
      "source": [
        "<a href=\"https://colab.research.google.com/github/RamakrishnaJoshi5/Training-Students5/blob/main/ARIMA__Car_Sales_.ipynb\" target=\"_parent\"><img src=\"https://colab.research.google.com/assets/colab-badge.svg\" alt=\"Open In Colab\"/></a>"
      ]
    },
    {
      "cell_type": "markdown",
      "metadata": {
        "id": "8o-Z_Vq2_ks0"
      },
      "source": [
        "**Time Series Forecasting**"
      ]
    },
    {
      "cell_type": "code",
      "metadata": {
        "colab": {
          "base_uri": "https://localhost:8080/"
        },
        "id": "tAKHQHo_-5-Y",
        "outputId": "fc00b7d7-b649-4a9d-d224-dbf781a75bb2"
      },
      "source": [
        "import pandas as pd\n",
        "from pandas import datetime\n",
        "import matplotlib.pyplot as plt \n",
        "from pandas import read_csv"
      ],
      "execution_count": 41,
      "outputs": [
        {
          "output_type": "stream",
          "name": "stderr",
          "text": [
            "/usr/local/lib/python3.7/dist-packages/ipykernel_launcher.py:2: FutureWarning: The pandas.datetime class is deprecated and will be removed from pandas in a future version. Import from datetime module instead.\n",
            "  \n"
          ]
        }
      ]
    },
    {
      "cell_type": "code",
      "metadata": {
        "colab": {
          "base_uri": "https://localhost:8080/",
          "height": 411
        },
        "id": "fZcLG1gR_xHo",
        "outputId": "b6577fa3-0a52-40bb-ef3a-9fdf6e6ede5b"
      },
      "source": [
        "def parser(x):\n",
        "\treturn datetime.strptime(x,'%Y-%m')\n",
        "\n",
        "sales = pd.read_csv('sales-cars.csv',index_col=0, parse_dates=[0] ,date_parser=parser)\n",
        "print(sales.head())\n",
        "sales.plot()\n",
        "plt.show()"
      ],
      "execution_count": 51,
      "outputs": [
        {
          "output_type": "stream",
          "name": "stdout",
          "text": [
            "            Sales\n",
            "Month            \n",
            "2016-01-01    266\n",
            "2016-02-01    146\n",
            "2016-03-01    183\n",
            "2016-04-01    119\n",
            "2016-05-01    180\n"
          ]
        },
        {
          "output_type": "display_data",
          "data": {
            "image/png": "[encoded data removed]",
            "text/plain": [
              "<Figure size 432x288 with 1 Axes>"
            ]
          },
          "metadata": {
            "needs_background": "light"
          }
        }
      ]
    },
    {
      "cell_type": "code",
      "metadata": {
        "colab": {
          "base_uri": "https://localhost:8080/",
          "height": 236
        },
        "id": "VXEcUptJAH4b",
        "outputId": "688d18f3-0202-474b-eba1-7560e935111a"
      },
      "source": [
        "sales.head()"
      ],
      "execution_count": 52,
      "outputs": [
        {
          "output_type": "execute_result",
          "data": {
            "text/html": [
              "<div>\n",
              "<style scoped>\n",
              "    .dataframe tbody tr th:only-of-type {\n",
              "        vertical-align: middle;\n",
              "    }\n",
              "\n",
              "    .dataframe tbody tr th {\n",
              "        vertical-align: top;\n",
              "    }\n",
              "\n",
              "    .dataframe thead th {\n",
              "        text-align: right;\n",
              "    }\n",
              "</style>\n",
              "<table border=\"1\" class=\"dataframe\">\n",
              "  <thead>\n",
              "    <tr style=\"text-align: right;\">\n",
              "      <th></th>\n",
              "      <th>Sales</th>\n",
              "    </tr>\n",
              "    <tr>\n",
              "      <th>Month</th>\n",
              "      <th></th>\n",
              "    </tr>\n",
              "  </thead>\n",
              "  <tbody>\n",
              "    <tr>\n",
              "      <th>2016-01-01</th>\n",
              "      <td>266</td>\n",
              "    </tr>\n",
              "    <tr>\n",
              "      <th>2016-02-01</th>\n",
              "      <td>146</td>\n",
              "    </tr>\n",
              "    <tr>\n",
              "      <th>2016-03-01</th>\n",
              "      <td>183</td>\n",
              "    </tr>\n",
              "    <tr>\n",
              "      <th>2016-04-01</th>\n",
              "      <td>119</td>\n",
              "    </tr>\n",
              "    <tr>\n",
              "      <th>2016-05-01</th>\n",
              "      <td>180</td>\n",
              "    </tr>\n",
              "  </tbody>\n",
              "</table>\n",
              "</div>"
            ],
            "text/plain": [
              "            Sales\n",
              "Month            \n",
              "2016-01-01    266\n",
              "2016-02-01    146\n",
              "2016-03-01    183\n",
              "2016-04-01    119\n",
              "2016-05-01    180"
            ]
          },
          "metadata": {},
          "execution_count": 52
        }
      ]
    },
    {
      "cell_type": "markdown",
      "metadata": {
        "id": "k0lDolRIL1-E"
      },
      "source": [
        "**Stationary **\n",
        "\n",
        "Means mean , variance and covariance over a period of time"
      ]
    },
    {
      "cell_type": "markdown",
      "metadata": {
        "id": "FPzUsZIvMK14"
      },
      "source": [
        "**obesrvation **\n",
        "\n",
        "Increase in the sales over a period of time therefore it is difficult for us to analyze the data, we need to bring the data to statinarity form "
      ]
    },
    {
      "cell_type": "code",
      "metadata": {
        "id": "UE8tFWpTL1Ke"
      },
      "source": [
        "# converting series to stationary by taking difference of a series \n",
        "\n",
        "\n",
        "sales_diff= sales.diff(periods=1)\n",
        "\n",
        "\n",
        "# integrated of order 1 , denoted by d (difference), one of the parameter of ARIMA "
      ],
      "execution_count": 57,
      "outputs": []
    },
    {
      "cell_type": "code",
      "metadata": {
        "colab": {
          "base_uri": "https://localhost:8080/",
          "height": 236
        },
        "id": "czCSxzmfNDws",
        "outputId": "ec213db1-eac3-444c-be1f-911e05014eda"
      },
      "source": [
        "sales_diff.head()"
      ],
      "execution_count": 58,
      "outputs": [
        {
          "output_type": "execute_result",
          "data": {
            "text/html": [
              "<div>\n",
              "<style scoped>\n",
              "    .dataframe tbody tr th:only-of-type {\n",
              "        vertical-align: middle;\n",
              "    }\n",
              "\n",
              "    .dataframe tbody tr th {\n",
              "        vertical-align: top;\n",
              "    }\n",
              "\n",
              "    .dataframe thead th {\n",
              "        text-align: right;\n",
              "    }\n",
              "</style>\n",
              "<table border=\"1\" class=\"dataframe\">\n",
              "  <thead>\n",
              "    <tr style=\"text-align: right;\">\n",
              "      <th></th>\n",
              "      <th>Sales</th>\n",
              "    </tr>\n",
              "    <tr>\n",
              "      <th>Month</th>\n",
              "      <th></th>\n",
              "    </tr>\n",
              "  </thead>\n",
              "  <tbody>\n",
              "    <tr>\n",
              "      <th>2016-01-01</th>\n",
              "      <td>NaN</td>\n",
              "    </tr>\n",
              "    <tr>\n",
              "      <th>2016-02-01</th>\n",
              "      <td>-120.0</td>\n",
              "    </tr>\n",
              "    <tr>\n",
              "      <th>2016-03-01</th>\n",
              "      <td>37.0</td>\n",
              "    </tr>\n",
              "    <tr>\n",
              "      <th>2016-04-01</th>\n",
              "      <td>-64.0</td>\n",
              "    </tr>\n",
              "    <tr>\n",
              "      <th>2016-05-01</th>\n",
              "      <td>61.0</td>\n",
              "    </tr>\n",
              "  </tbody>\n",
              "</table>\n",
              "</div>"
            ],
            "text/plain": [
              "            Sales\n",
              "Month            \n",
              "2016-01-01    NaN\n",
              "2016-02-01 -120.0\n",
              "2016-03-01   37.0\n",
              "2016-04-01  -64.0\n",
              "2016-05-01   61.0"
            ]
          },
          "metadata": {},
          "execution_count": 58
        }
      ]
    },
    {
      "cell_type": "code",
      "metadata": {
        "colab": {
          "base_uri": "https://localhost:8080/",
          "height": 236
        },
        "id": "HtdoRjpVNVNQ",
        "outputId": "233d3029-7557-460d-c9ac-a1dfae9c58fc"
      },
      "source": [
        "sales_diff = sales_diff[1:]\n",
        "sales_diff.head()"
      ],
      "execution_count": 61,
      "outputs": [
        {
          "output_type": "execute_result",
          "data": {
            "text/html": [
              "<div>\n",
              "<style scoped>\n",
              "    .dataframe tbody tr th:only-of-type {\n",
              "        vertical-align: middle;\n",
              "    }\n",
              "\n",
              "    .dataframe tbody tr th {\n",
              "        vertical-align: top;\n",
              "    }\n",
              "\n",
              "    .dataframe thead th {\n",
              "        text-align: right;\n",
              "    }\n",
              "</style>\n",
              "<table border=\"1\" class=\"dataframe\">\n",
              "  <thead>\n",
              "    <tr style=\"text-align: right;\">\n",
              "      <th></th>\n",
              "      <th>Sales</th>\n",
              "    </tr>\n",
              "    <tr>\n",
              "      <th>Month</th>\n",
              "      <th></th>\n",
              "    </tr>\n",
              "  </thead>\n",
              "  <tbody>\n",
              "    <tr>\n",
              "      <th>2016-03-01</th>\n",
              "      <td>37.0</td>\n",
              "    </tr>\n",
              "    <tr>\n",
              "      <th>2016-04-01</th>\n",
              "      <td>-64.0</td>\n",
              "    </tr>\n",
              "    <tr>\n",
              "      <th>2016-05-01</th>\n",
              "      <td>61.0</td>\n",
              "    </tr>\n",
              "    <tr>\n",
              "      <th>2016-06-01</th>\n",
              "      <td>-11.0</td>\n",
              "    </tr>\n",
              "    <tr>\n",
              "      <th>2016-07-01</th>\n",
              "      <td>63.0</td>\n",
              "    </tr>\n",
              "  </tbody>\n",
              "</table>\n",
              "</div>"
            ],
            "text/plain": [
              "            Sales\n",
              "Month            \n",
              "2016-03-01   37.0\n",
              "2016-04-01  -64.0\n",
              "2016-05-01   61.0\n",
              "2016-06-01  -11.0\n",
              "2016-07-01   63.0"
            ]
          },
          "metadata": {},
          "execution_count": 61
        }
      ]
    },
    {
      "cell_type": "code",
      "metadata": {
        "colab": {
          "base_uri": "https://localhost:8080/",
          "height": 545
        },
        "id": "9s7kfnzzNpz6",
        "outputId": "5d7442a6-b236-48e4-99d4-2e25a7b88453"
      },
      "source": [
        "# ACF plot Autocorrelation function\n",
        "\n",
        "\n",
        "from statsmodels.graphics.tsaplots import plot_acf\n",
        "plot_acf(sales)"
      ],
      "execution_count": 63,
      "outputs": [
        {
          "output_type": "execute_result",
          "data": {
            "image/png": "[encoded data removed]",
            "text/plain": [
              "<Figure size 432x288 with 1 Axes>"
            ]
          },
          "metadata": {},
          "execution_count": 63
        },
        {
          "output_type": "display_data",
          "data": {
            "image/png": "[encoded data removed]",
            "text/plain": [
              "<Figure size 432x288 with 1 Axes>"
            ]
          },
          "metadata": {
            "needs_background": "light"
          }
        }
      ]
    },
    {
      "cell_type": "markdown",
      "metadata": {
        "id": "XjAvKZh2Olxw"
      },
      "source": [
        "Observation :\n",
        "\n",
        "The series is slowly decaying , which gives the proof that the given series is not stationary\n",
        "\n",
        "We need stationary data to do time series forecasting"
      ]
    },
    {
      "cell_type": "code",
      "metadata": {
        "colab": {
          "base_uri": "https://localhost:8080/",
          "height": 545
        },
        "id": "fR7F9liUOQa_",
        "outputId": "c485ce61-87c0-457f-f679-96cf07048770"
      },
      "source": [
        "plot_acf(sales_diff)"
      ],
      "execution_count": 66,
      "outputs": [
        {
          "output_type": "execute_result",
          "data": {
            "image/png": "[encoded data removed]",
            "text/plain": [
              "<Figure size 432x288 with 1 Axes>"
            ]
          },
          "metadata": {},
          "execution_count": 66
        },
        {
          "output_type": "display_data",
          "data": {
            "image/png": "[encoded data removed]",
            "text/plain": [
              "<Figure size 432x288 with 1 Axes>"
            ]
          },
          "metadata": {
            "needs_background": "light"
          }
        }
      ]
    },
    {
      "cell_type": "markdown",
      "metadata": {
        "id": "m2zyRcLJPThg"
      },
      "source": [
        "Observation :\n",
        "\n",
        "The above values of the slaes difference plot shows that the result in a stationary data and this is good for time series analysis "
      ]
    },
    {
      "cell_type": "code",
      "metadata": {
        "colab": {
          "base_uri": "https://localhost:8080/",
          "height": 308
        },
        "id": "4l30xVbiQHDE",
        "outputId": "f21be6b1-2d5f-4436-bcaa-e43f807e5e32"
      },
      "source": [
        "sales_diff.plot()"
      ],
      "execution_count": 67,
      "outputs": [
        {
          "output_type": "execute_result",
          "data": {
            "text/plain": [
              "<matplotlib.axes._subplots.AxesSubplot at 0x7fbf14b52ed0>"
            ]
          },
          "metadata": {},
          "execution_count": 67
        },
        {
          "output_type": "display_data",
          "data": {
            "image/png": "[encoded data removed]",
            "text/plain": [
              "<Figure size 432x288 with 1 Axes>"
            ]
          },
          "metadata": {
            "needs_background": "light"
          }
        }
      ]
    },
    {
      "cell_type": "code",
      "metadata": {
        "colab": {
          "base_uri": "https://localhost:8080/"
        },
        "id": "nO-uEgofSwvR",
        "outputId": "00a1a360-4cec-4185-9620-4a57b7d85d8a"
      },
      "source": [
        "X = sales.values\n",
        "X\n",
        "X.size\n",
        "\n",
        "predictions = []"
      ],
      "execution_count": 72,
      "outputs": [
        {
          "output_type": "execute_result",
          "data": {
            "text/plain": [
              "36"
            ]
          },
          "metadata": {},
          "execution_count": 72
        }
      ]
    },
    {
      "cell_type": "code",
      "metadata": {
        "id": "5KnN6DwiSwmc"
      },
      "source": [
        "train= X[0:27]\n",
        "test= X[27:]\n",
        "\n",
        "predictions = []"
      ],
      "execution_count": 77,
      "outputs": []
    },
    {
      "cell_type": "code",
      "metadata": {
        "colab": {
          "base_uri": "https://localhost:8080/"
        },
        "id": "xRV0JJxSSwGg",
        "outputId": "ecf8ed37-27ef-418a-c8e0-91e01b9942f6"
      },
      "source": [
        "train"
      ],
      "execution_count": 74,
      "outputs": [
        {
          "output_type": "execute_result",
          "data": {
            "text/plain": [
              "array([[266],\n",
              "       [146],\n",
              "       [183],\n",
              "       [119],\n",
              "       [180],\n",
              "       [169],\n",
              "       [232],\n",
              "       [225],\n",
              "       [193],\n",
              "       [123],\n",
              "       [337],\n",
              "       [186],\n",
              "       [194],\n",
              "       [150],\n",
              "       [210],\n",
              "       [273],\n",
              "       [191],\n",
              "       [287],\n",
              "       [226],\n",
              "       [304],\n",
              "       [290],\n",
              "       [422],\n",
              "       [265],\n",
              "       [342],\n",
              "       [340],\n",
              "       [440],\n",
              "       [316]])"
            ]
          },
          "metadata": {},
          "execution_count": 74
        }
      ]
    },
    {
      "cell_type": "code",
      "metadata": {
        "colab": {
          "base_uri": "https://localhost:8080/"
        },
        "id": "nU74vowZUFI1",
        "outputId": "b2b71179-afe5-4f90-a45c-f18e04a92f4f"
      },
      "source": [
        "test"
      ],
      "execution_count": 80,
      "outputs": [
        {
          "output_type": "execute_result",
          "data": {
            "text/plain": [
              "array([[439],\n",
              "       [401],\n",
              "       [390],\n",
              "       [490],\n",
              "       [408],\n",
              "       [490],\n",
              "       [420],\n",
              "       [520],\n",
              "       [480]])"
            ]
          },
          "metadata": {},
          "execution_count": 80
        }
      ]
    },
    {
      "cell_type": "code",
      "metadata": {
        "colab": {
          "base_uri": "https://localhost:8080/"
        },
        "id": "Rwpq7H8sTcMj",
        "outputId": "838fbf6d-c26f-4bec-e814-b25a617c8498"
      },
      "source": [
        "train.size"
      ],
      "execution_count": 76,
      "outputs": [
        {
          "output_type": "execute_result",
          "data": {
            "text/plain": [
              "27"
            ]
          },
          "metadata": {},
          "execution_count": 76
        }
      ]
    },
    {
      "cell_type": "code",
      "metadata": {
        "colab": {
          "base_uri": "https://localhost:8080/"
        },
        "id": "bKcVlytuTWBj",
        "outputId": "1653cf44-a68d-456c-9c68-5ac390e30dfd"
      },
      "source": [
        "\n",
        "test.size"
      ],
      "execution_count": 75,
      "outputs": [
        {
          "output_type": "execute_result",
          "data": {
            "text/plain": [
              "9"
            ]
          },
          "metadata": {},
          "execution_count": 75
        }
      ]
    },
    {
      "cell_type": "markdown",
      "metadata": {
        "id": "iOhjN7VyaVN-"
      },
      "source": [
        "**`AUTOREGGRESIVE AR Model`**"
      ]
    },
    {
      "cell_type": "code",
      "metadata": {
        "id": "6FYMY8vDQPGt"
      },
      "source": [
        "# simple AR model \n",
        "\n",
        "from statsmodels.tsa.ar_model import AR\n",
        "from sklearn.metrics import mean_squared_error\n",
        "\n",
        "model_ar = AR(train)\n",
        "model_ar_fit = model_ar.fit()\n",
        "\n",
        "\n"
      ],
      "execution_count": 78,
      "outputs": []
    },
    {
      "cell_type": "code",
      "metadata": {
        "id": "3RiwDUXJTzgq"
      },
      "source": [
        "predictions=model_ar_fit.predict(start=27,end=36)"
      ],
      "execution_count": 83,
      "outputs": []
    },
    {
      "cell_type": "code",
      "metadata": {
        "colab": {
          "base_uri": "https://localhost:8080/",
          "height": 282
        },
        "id": "VPiiQsQyURc_",
        "outputId": "fe995227-6b62-4f09-c9e1-c7a98db3c053"
      },
      "source": [
        "plt.plot(test)\n",
        "plt.plot(predictions, color='red')"
      ],
      "execution_count": 84,
      "outputs": [
        {
          "output_type": "execute_result",
          "data": {
            "text/plain": [
              "[<matplotlib.lines.Line2D at 0x7fbf12f13e10>]"
            ]
          },
          "metadata": {},
          "execution_count": 84
        },
        {
          "output_type": "display_data",
          "data": {
            "image/png": "[encoded data removed]",
            "text/plain": [
              "<Figure size 432x288 with 1 Axes>"
            ]
          },
          "metadata": {
            "needs_background": "light"
          }
        }
      ]
    },
    {
      "cell_type": "code",
      "metadata": {
        "colab": {
          "base_uri": "https://localhost:8080/",
          "height": 308
        },
        "id": "PxBvIba6UWDw",
        "outputId": "13f3e4c1-e8ae-46d2-9c1e-b43a62059cfa"
      },
      "source": [
        "sales.plot()"
      ],
      "execution_count": 85,
      "outputs": [
        {
          "output_type": "execute_result",
          "data": {
            "text/plain": [
              "<matplotlib.axes._subplots.AxesSubplot at 0x7fbf1327fed0>"
            ]
          },
          "metadata": {},
          "execution_count": 85
        },
        {
          "output_type": "display_data",
          "data": {
            "image/png": "[encoded data removed]",
            "text/plain": [
              "<Figure size 432x288 with 1 Axes>"
            ]
          },
          "metadata": {
            "needs_background": "light"
          }
        }
      ]
    },
    {
      "cell_type": "markdown",
      "metadata": {
        "id": "dHnQpVLKUu7y"
      },
      "source": [
        "Observation :\n",
        "\n",
        "We have considered the last 9 readings we can easily compare both the graphs "
      ]
    },
    {
      "cell_type": "markdown",
      "metadata": {
        "id": "7gDAHIhWatUl"
      },
      "source": [
        "**ARIMA  Model`**"
      ]
    },
    {
      "cell_type": "code",
      "metadata": {
        "id": "VLoMzOAFVEwy"
      },
      "source": [
        "from statsmodels.tsa.arima_model import ARIMA"
      ],
      "execution_count": 86,
      "outputs": []
    },
    {
      "cell_type": "markdown",
      "metadata": {
        "id": "76sObCcwbKJW"
      },
      "source": [
        "p= periods taken for AR model ( number of points taken for regression)\n",
        "d=order of integeration , how many difference is done \n",
        "q periods in moving average"
      ]
    },
    {
      "cell_type": "code",
      "metadata": {
        "colab": {
          "base_uri": "https://localhost:8080/"
        },
        "id": "1FEYJSlYbE1z",
        "outputId": "49b82077-498a-4613-db73-f8c2b79138d9"
      },
      "source": [
        "model_arima= ARIMA(train, order = (3,2,0))\n",
        "model_arima_fit = model_arima.fit()\n",
        "\n",
        "print(model_arima_fit.aic)"
      ],
      "execution_count": 126,
      "outputs": [
        {
          "output_type": "stream",
          "name": "stdout",
          "text": [
            "299.40758681557804\n"
          ]
        }
      ]
    },
    {
      "cell_type": "code",
      "metadata": {
        "colab": {
          "base_uri": "https://localhost:8080/"
        },
        "id": "uO3lNF25buOm",
        "outputId": "67792ca6-ae2a-4f78-b3b4-07471107bdb8"
      },
      "source": [
        "predictions = model_arima_fit.forecast(steps=9)\n",
        "predictions"
      ],
      "execution_count": 127,
      "outputs": [
        {
          "output_type": "execute_result",
          "data": {
            "text/plain": [
              "(array([431.25729519, 399.19950832, 464.94145933, 415.41457358,\n",
              "        509.89040151, 480.13987686, 545.70817475, 530.927466  ,\n",
              "        605.59692231]),\n",
              " array([ 75.15446307,  93.49072681, 127.55683164, 161.33621631,\n",
              "        214.39952094, 253.17235439, 306.4493937 , 356.59978906,\n",
              "        416.00174737]),\n",
              " array([[ 283.9572543 ,  578.55733608],\n",
              "        [ 215.96105089,  582.43796576],\n",
              "        [ 214.93466334,  714.94825533],\n",
              "        [  99.20140022,  731.62774694],\n",
              "        [  89.67506216,  930.10574086],\n",
              "        [ -16.06881962,  976.34857335],\n",
              "        [ -54.9216    , 1146.33794949],\n",
              "        [-167.99527745, 1229.85020944],\n",
              "        [-209.75152005, 1420.94536466]]))"
            ]
          },
          "metadata": {},
          "execution_count": 127
        }
      ]
    },
    {
      "cell_type": "code",
      "metadata": {
        "colab": {
          "base_uri": "https://localhost:8080/"
        },
        "id": "CTZ4S0wEckTb",
        "outputId": "bb69b923-f32b-4fbb-bfe4-6293abeae5c8"
      },
      "source": [
        "predictions = model_arima_fit.forecast(steps=10)[0]\n",
        "predictions"
      ],
      "execution_count": 129,
      "outputs": [
        {
          "output_type": "execute_result",
          "data": {
            "text/plain": [
              "array([431.25729519, 399.19950832, 464.94145933, 415.41457358,\n",
              "       509.89040151, 480.13987686, 545.70817475, 530.927466  ,\n",
              "       605.59692231, 594.27591225])"
            ]
          },
          "metadata": {},
          "execution_count": 129
        }
      ]
    },
    {
      "cell_type": "code",
      "metadata": {
        "colab": {
          "base_uri": "https://localhost:8080/",
          "height": 282
        },
        "id": "8ze6Ns9cczca",
        "outputId": "d2371f12-10fb-448f-8133-a4533bf088c5"
      },
      "source": [
        "plt.plot(test)\n",
        "plt.plot(predictions, color='red')"
      ],
      "execution_count": 130,
      "outputs": [
        {
          "output_type": "execute_result",
          "data": {
            "text/plain": [
              "[<matplotlib.lines.Line2D at 0x7fbf108b9610>]"
            ]
          },
          "metadata": {},
          "execution_count": 130
        },
        {
          "output_type": "display_data",
          "data": {
            "image/png": "[encoded data removed]",
            "text/plain": [
              "<Figure size 432x288 with 1 Axes>"
            ]
          },
          "metadata": {
            "needs_background": "light"
          }
        }
      ]
    },
    {
      "cell_type": "code",
      "metadata": {
        "colab": {
          "base_uri": "https://localhost:8080/"
        },
        "id": "a-6gziCec4YW",
        "outputId": "2993c9fc-e114-4403-ed64-ca46196517ab"
      },
      "source": [
        "import itertools\n",
        "\n",
        "p=d=q=range(0,5)\n",
        "pdq = list(itertools.product(p,d,q))\n",
        "pdq"
      ],
      "execution_count": 112,
      "outputs": [
        {
          "output_type": "execute_result",
          "data": {
            "text/plain": [
              "[(0, 0, 0),\n",
              " (0, 0, 1),\n",
              " (0, 0, 2),\n",
              " (0, 0, 3),\n",
              " (0, 0, 4),\n",
              " (0, 1, 0),\n",
              " (0, 1, 1),\n",
              " (0, 1, 2),\n",
              " (0, 1, 3),\n",
              " (0, 1, 4),\n",
              " (0, 2, 0),\n",
              " (0, 2, 1),\n",
              " (0, 2, 2),\n",
              " (0, 2, 3),\n",
              " (0, 2, 4),\n",
              " (0, 3, 0),\n",
              " (0, 3, 1),\n",
              " (0, 3, 2),\n",
              " (0, 3, 3),\n",
              " (0, 3, 4),\n",
              " (0, 4, 0),\n",
              " (0, 4, 1),\n",
              " (0, 4, 2),\n",
              " (0, 4, 3),\n",
              " (0, 4, 4),\n",
              " (1, 0, 0),\n",
              " (1, 0, 1),\n",
              " (1, 0, 2),\n",
              " (1, 0, 3),\n",
              " (1, 0, 4),\n",
              " (1, 1, 0),\n",
              " (1, 1, 1),\n",
              " (1, 1, 2),\n",
              " (1, 1, 3),\n",
              " (1, 1, 4),\n",
              " (1, 2, 0),\n",
              " (1, 2, 1),\n",
              " (1, 2, 2),\n",
              " (1, 2, 3),\n",
              " (1, 2, 4),\n",
              " (1, 3, 0),\n",
              " (1, 3, 1),\n",
              " (1, 3, 2),\n",
              " (1, 3, 3),\n",
              " (1, 3, 4),\n",
              " (1, 4, 0),\n",
              " (1, 4, 1),\n",
              " (1, 4, 2),\n",
              " (1, 4, 3),\n",
              " (1, 4, 4),\n",
              " (2, 0, 0),\n",
              " (2, 0, 1),\n",
              " (2, 0, 2),\n",
              " (2, 0, 3),\n",
              " (2, 0, 4),\n",
              " (2, 1, 0),\n",
              " (2, 1, 1),\n",
              " (2, 1, 2),\n",
              " (2, 1, 3),\n",
              " (2, 1, 4),\n",
              " (2, 2, 0),\n",
              " (2, 2, 1),\n",
              " (2, 2, 2),\n",
              " (2, 2, 3),\n",
              " (2, 2, 4),\n",
              " (2, 3, 0),\n",
              " (2, 3, 1),\n",
              " (2, 3, 2),\n",
              " (2, 3, 3),\n",
              " (2, 3, 4),\n",
              " (2, 4, 0),\n",
              " (2, 4, 1),\n",
              " (2, 4, 2),\n",
              " (2, 4, 3),\n",
              " (2, 4, 4),\n",
              " (3, 0, 0),\n",
              " (3, 0, 1),\n",
              " (3, 0, 2),\n",
              " (3, 0, 3),\n",
              " (3, 0, 4),\n",
              " (3, 1, 0),\n",
              " (3, 1, 1),\n",
              " (3, 1, 2),\n",
              " (3, 1, 3),\n",
              " (3, 1, 4),\n",
              " (3, 2, 0),\n",
              " (3, 2, 1),\n",
              " (3, 2, 2),\n",
              " (3, 2, 3),\n",
              " (3, 2, 4),\n",
              " (3, 3, 0),\n",
              " (3, 3, 1),\n",
              " (3, 3, 2),\n",
              " (3, 3, 3),\n",
              " (3, 3, 4),\n",
              " (3, 4, 0),\n",
              " (3, 4, 1),\n",
              " (3, 4, 2),\n",
              " (3, 4, 3),\n",
              " (3, 4, 4),\n",
              " (4, 0, 0),\n",
              " (4, 0, 1),\n",
              " (4, 0, 2),\n",
              " (4, 0, 3),\n",
              " (4, 0, 4),\n",
              " (4, 1, 0),\n",
              " (4, 1, 1),\n",
              " (4, 1, 2),\n",
              " (4, 1, 3),\n",
              " (4, 1, 4),\n",
              " (4, 2, 0),\n",
              " (4, 2, 1),\n",
              " (4, 2, 2),\n",
              " (4, 2, 3),\n",
              " (4, 2, 4),\n",
              " (4, 3, 0),\n",
              " (4, 3, 1),\n",
              " (4, 3, 2),\n",
              " (4, 3, 3),\n",
              " (4, 3, 4),\n",
              " (4, 4, 0),\n",
              " (4, 4, 1),\n",
              " (4, 4, 2),\n",
              " (4, 4, 3),\n",
              " (4, 4, 4)]"
            ]
          },
          "metadata": {},
          "execution_count": 112
        }
      ]
    },
    {
      "cell_type": "code",
      "metadata": {
        "colab": {
          "base_uri": "https://localhost:8080/"
        },
        "id": "4bJROLdhji9T",
        "outputId": "239bf614-b6fb-4688-8ed2-770850c88cdf"
      },
      "source": [
        "import warnings\n",
        "warnings.filterwarnings(\"ignore\")\n",
        "\n",
        "\n",
        "\n",
        "for param in pdq:\n",
        "\n",
        "  try:\n",
        "    model_arima= ARIMA(train, order = param)\n",
        "    model_arima_fit = model_arima.fit()\n",
        "    print(param,model_arima_fit.aic)\n",
        "\n",
        "  except:\n",
        "    continue"
      ],
      "execution_count": 121,
      "outputs": [
        {
          "output_type": "stream",
          "name": "stdout",
          "text": [
            "(0, 0, 0) 319.45285852307086\n",
            "(0, 0, 1) 318.72448093958684\n",
            "(0, 0, 2) 315.25060028734725\n",
            "(0, 0, 3) nan\n",
            "(0, 0, 4) 310.16693286172836\n",
            "(0, 1, 0) 311.8293983488534\n",
            "(0, 1, 1) 296.08415393124716\n",
            "(0, 1, 2) 296.32292269077084\n",
            "(0, 2, 0) 329.1834958250828\n",
            "(0, 2, 1) 306.10194646765615\n",
            "(1, 0, 0) 316.1668717522581\n",
            "(1, 0, 1) 313.04871744034705\n",
            "(1, 0, 2) 310.9790642324631\n",
            "(1, 1, 0) 298.83254422722734\n",
            "(1, 1, 1) 297.1256511258501\n",
            "(1, 1, 2) 299.4716667063055\n",
            "(1, 1, 3) 301.2851180947989\n",
            "(1, 1, 4) 299.9787323970771\n",
            "(1, 2, 0) 306.5307767570848\n",
            "(1, 2, 3) 290.32533939678456\n",
            "(2, 0, 0) 310.9969573639024\n",
            "(2, 1, 0) 300.2089561241322\n",
            "(2, 1, 1) 297.99999301673904\n",
            "(2, 1, 2) 298.55054281302216\n",
            "(2, 1, 3) 302.87208273881095\n",
            "(2, 2, 0) 306.29758564328415\n",
            "(3, 0, 0) 312.98385874187704\n",
            "(3, 0, 1) 338.4299466565905\n",
            "(3, 1, 0) 294.8543584218622\n",
            "(3, 1, 1) 295.9979353418541\n",
            "(3, 1, 2) 292.66862386948566\n",
            "(3, 1, 3) 294.6588907517257\n",
            "(3, 2, 0) 299.40758681557804\n",
            "(3, 2, 4) 291.2750487206154\n",
            "(4, 0, 0) 311.0706562311715\n",
            "(4, 0, 1) 322.0797649026531\n",
            "(4, 1, 0) 295.9343631351546\n",
            "(4, 1, 1) 297.9098817060816\n",
            "(4, 1, 2) 294.6633610568169\n",
            "(4, 1, 3) 296.64552471466544\n",
            "(4, 2, 0) 296.5230072444081\n",
            "(4, 2, 1) 291.3991344717451\n",
            "(4, 2, 4) 292.5300290351604\n"
          ]
        }
      ]
    },
    {
      "cell_type": "code",
      "metadata": {
        "colab": {
          "base_uri": "https://localhost:8080/"
        },
        "id": "hvEjR5Hylq34",
        "outputId": "8b6a1281-b07d-4cf3-f7e6-e5e1d353966d"
      },
      "source": [
        "model_arima= ARIMA(train, order = (9,1,0))\n",
        "model_arima_fit = model_arima.fit()\n",
        "\n",
        "print(model_arima_fit.aic)\n",
        "\n",
        "predictions = model_arima_fit.forecast(steps=10)[0]\n",
        "predictions"
      ],
      "execution_count": 136,
      "outputs": [
        {
          "output_type": "stream",
          "name": "stdout",
          "text": [
            "299.13060488930785\n"
          ]
        },
        {
          "output_type": "execute_result",
          "data": {
            "text/plain": [
              "array([382.36199921, 346.01886106, 408.24683844, 374.59743062,\n",
              "       440.5883281 , 354.09786556, 413.03902394, 415.78052839,\n",
              "       483.76015285, 393.70114026])"
            ]
          },
          "metadata": {},
          "execution_count": 136
        }
      ]
    },
    {
      "cell_type": "code",
      "metadata": {
        "colab": {
          "base_uri": "https://localhost:8080/",
          "height": 282
        },
        "id": "9OzRvQwBl0CB",
        "outputId": "ab8426c9-1b2b-4354-ad08-617e43750dda"
      },
      "source": [
        "plt.plot(test)\n",
        "plt.plot(predictions, color='red')"
      ],
      "execution_count": 137,
      "outputs": [
        {
          "output_type": "execute_result",
          "data": {
            "text/plain": [
              "[<matplotlib.lines.Line2D at 0x7fbf107b4f90>]"
            ]
          },
          "metadata": {},
          "execution_count": 137
        },
        {
          "output_type": "display_data",
          "data": {
            "image/png": "[encoded data removed]",
            "text/plain": [
              "<Figure size 432x288 with 1 Axes>"
            ]
          },
          "metadata": {
            "needs_background": "light"
          }
        }
      ]
    },
    {
      "cell_type": "markdown",
      "metadata": {
        "id": "Lgf8Vr7ZnOZE"
      },
      "source": [
        "mean squared error"
      ]
    },
    {
      "cell_type": "markdown",
      "metadata": {
        "id": "hZK6LB8JnsG7"
      },
      "source": [
        "**In summary, the steps of this process are as follows:**\n",
        "\n",
        "1. Model Identification. Use plots and summary statistics to identify trends, seasonality, and autoregression elements to get an idea of the amount of differencing and the size of the lag that will be required.\n",
        "\n",
        "\n",
        "2. Parameter Estimation. Use a fitting procedure to find the coefficients of the regression model.\n",
        "Model Checking. Use plots and statistical tests of the residual errors to determine the amount and type of temporal structure not captured by the model.\n",
        "\n",
        "\n",
        "3. The process is repeated until either a desirable level of fit is achieved on the in-sample or out-of-sample observations (e.g. training or test datasets)."
      ]
    }
  ]
}